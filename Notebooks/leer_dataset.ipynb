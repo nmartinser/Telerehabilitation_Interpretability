{
 "cells": [
  {
   "cell_type": "markdown",
   "metadata": {},
   "source": [
    "# Procesar los datos de los videos\n",
    "\n",
    "Este notebook se encarga de transformar los datos crudos provenientes de archivos de video en un formato estructurado y útil para el análisis. Parte de archivos que almacenan la posicion tridimensional de distintos puntos del cuerpo, después calcula el ángulo entre disintos puntos del cuepro, y por último se realizan cálculos estadísticos sobre los ángulos\n",
    "\n",
    "**Objetivo**\n",
    "*  Leer y procesar los archivos crudos para crear un DataFrame que contenga información esencial sobre cada grabación, incluyendo detalles sobre el paciente, el número de repetición, el ID del movimiento, la precisión del gesto (si es correcto o no), y la posición de los keypoints.\n",
    "* Crear un segundo DataFrame que contenga los ángulos calculados entre algunos de los keypoints, lo que ayudará a entender mejor la postura y el movimiento durante la ejecución del gesto.\n",
    "* Sobre este último, realizar cálculos estadísticos sobre los ángulos calculados entre keypoints para cada repetición y gesto. \n",
    "\n",
    "**Entrada**\n",
    "* Archivos de datos de videos dentro del directorio ``SkeletonData/RawData``, que contienen información sobre el paciente, las repeticiones, los IDs de movimiento, y las posiciones de keypoints.\n",
    "\n",
    "**Salida**\n",
    "* ``Resultados/raw_pacientes.csv``: contiene información detallada sobre cada grabación. Es el archivo de entrada de ``analisis_datos.ipynb``.\n",
    "* ``Resulados/angles.csv``: incluye los ángulos calculados entre keypoints, facilitando el análisis de la postura y el movimiento durante el gesto. Este será el archivo de entrada de ``medidas_angulos.ipynb`` y de ``analisis_datos.ipynb``.\n",
    "* ``Resultados/medidasPerRepetition.csv``: contiene una fila por repetición y gesto, que incluye estadísticas para cada ángulo calculado.\n",
    "\n",
    "**Índice**\n",
    "1. [Procesar Raw Data Folder](#1-procesar-raw-data-folder)\\\n",
    "    1.1 [Datos de los nombres de los archivos](#11-datos-de-los-nombres-de-los-archivos)\\\n",
    "    1.2 [Datos de los archivos](#12-datos-de-los-archivos)\n",
    "2. [Calcular los ángulos](#2-calcular-los-ángulos)\n",
    "3. [Cálculos estadísticos sobre los ángulos](#3-cálculos-estadísticos-sobre-los-ángulos)\n"
   ]
  },
  {
   "cell_type": "code",
   "execution_count": 7,
   "metadata": {},
   "outputs": [],
   "source": [
    "# importar librerias necesarias\n",
    "import pandas as pd # para manejar dataframes\n",
    "import functions as fn\n",
    "import os\n",
    "\n",
    "# Para ignorar los FutureWarning\n",
    "import warnings\n",
    "warnings.simplefilter(action = 'ignore', category = FutureWarning)"
   ]
  },
  {
   "cell_type": "markdown",
   "metadata": {},
   "source": [
    "*****\n",
    "## 1. Procesar Raw Data Folder"
   ]
  },
  {
   "cell_type": "markdown",
   "metadata": {},
   "source": [
    "El conjunto de datos incluye a 30 sujetos, de los cuales 14 son sanos y 16 son pacientes. Cada participante realiza 9 tipos de ejercicios, con 6 repeticiones de cada uno.\n",
    "\n",
    "La carpeta contiene 2598 archivos de texto con información de los videos, donde cada archivo corresponde a un sujeto realizando una repetición de un gesto. Hay información tanto en el contenido del archivo como en el propio nombre del archivo.\n",
    "\n",
    "* En el nombre del archivo se encuentran los identificadores del sujeto, del día, del gesto, el número de repetición, si es correcto y la posición del sujeto durante el ejercicio.\n",
    "\n",
    "* Dentro de cada archivo hay información sobre las coordenadas de 25 puntos del cuerpo captados por un sensor que graba a 30 fps. Por lo tanto, por cada segundo de video, se generan 30 líneas en el archivo de texto. Cada línea sigue el siguiente formato: marca de tiempo, XX, XX, seguido de 25 pares de (NombreArticulación, EstadoSeguimiento, coordenada 3D X, coordenada 3D Y, coordenada 3D Z, coordenada 2D X, coordenada 2D Y).\n"
   ]
  },
  {
   "cell_type": "markdown",
   "metadata": {},
   "source": [
    "### 1.1 Datos de los nombres de los archivos"
   ]
  },
  {
   "cell_type": "markdown",
   "metadata": {},
   "source": [
    "Los nombre de los archivos siguen el siguiente formato: *SubjectID_DateID_GestureLabel_RepetitionNumber_CorrectLabel_Position.txt*\n",
    "\n",
    "* *SubjectID*: id uniquely identifying the person performing the exercise\n",
    "* *DateID*: id identifying the session in which the person was recorded\n",
    "* *GestureLabel*: Label identifying the gesture; possible values are from 0 to 8\n",
    "* *RepetitionNumber*: Each gesture was repeated several times and this shows the repetition number\n",
    "* *CorrectLabel*: A value of 1 represents a gesture labeled as being correctly executed, while a value of 2 is for a gesture labeled as incorrect\n",
    "* *Position*: Some of the persons performed the gestures sitting on a chair or wheelchair, while others standing"
   ]
  },
  {
   "cell_type": "markdown",
   "metadata": {},
   "source": [
    "### 1.2 Datos de los archivos\n",
    "Each raw data file contains per line: timestamp, XX, XX, followed by a 25 pairs of (JointName, TrackedStatus, 3d coordinate X, 3d coordinate Y, 3d coordinate Z, 2d coordinate X, 2d coordinate Y)"
   ]
  },
  {
   "cell_type": "code",
   "execution_count": 8,
   "metadata": {},
   "outputs": [],
   "source": [
    "# Función para extraer la información de dentro de los archivos\n",
    "def leer_datos_archivo(directorio:str, columnas:list[str]) -> pd.DataFrame:\n",
    "    \"\"\"\n",
    "    Compila la información de los archivos en un directorio y los guarda en un DataFrame.\n",
    "\n",
    "    Parámetros\n",
    "    ----------\n",
    "    directorio : str\n",
    "        Nombre del directorio donde se encuentran los archivos.\n",
    "    columnas : list[str]\n",
    "        Lista con los nombres de las columnas para el DataFrame de salida.\n",
    "\n",
    "    Return\n",
    "    -------\n",
    "    pd.DataFrame\n",
    "        DataFrame con todos los datos recopilados de los archivos.\n",
    "    \"\"\"\n",
    "    # Crea una lista con los nombres de los archivos en el directorio\n",
    "    file_list = os.listdir(directorio)\n",
    "\n",
    "    # lista para almacenar los datos extraídos\n",
    "    list_data = []\n",
    "\n",
    "    # Itera sobre cada archivo\n",
    "    for file_name in file_list:\n",
    "         # Extrae los datos del nombre del archivo\n",
    "        campos = fn.leer_nombre_archivo(file_name)\n",
    "\n",
    "        with open(os.path.join(directorio, file_name), 'r') as file:\n",
    "            for line in file:\n",
    "                 # Divide la línea por comas y extrae la información deseada\n",
    "                 # omitiendo timestamp y otros datos innecesarios\n",
    "                line_data = line.strip().split(',')[3:]\n",
    "                # Quita los paréntesis\n",
    "                cleaned_data = [item.replace('(', '').replace(')', '') for item in line_data] \n",
    "                # por cada linea de los archivos necesitamos bloques de 7 valores\n",
    "                for i in range(0, len(cleaned_data), 7): \n",
    "                    list_data.append(campos + cleaned_data[i:i + 7])\n",
    "    df = pd.DataFrame(list_data, columns=columnas)\n",
    "    return df"
   ]
  },
  {
   "cell_type": "code",
   "execution_count": null,
   "metadata": {},
   "outputs": [],
   "source": [
    "# directorio donde se encuentran los datos\n",
    "directory = '../dataset/SkeletonData/RawData' \n",
    "\n",
    "columnas = ['SubjectID', 'DateID', 'GestureLabel', 'RepetitionNumber', 'CorrectLabel', 'Position',\n",
    "            'JointName', 'TrackedStatus', '3D_X', '3D_Y', '3D_Z', '2D_X', '2D_Y']\n",
    "\n",
    "# Extraer la informacion y almacenarla en un DataFrame\n",
    "df_data = leer_datos_archivo(directory, columnas)"
   ]
  },
  {
   "cell_type": "code",
   "execution_count": null,
   "metadata": {},
   "outputs": [],
   "source": [
    "# Eliminar columnas innceserarias\n",
    "df_data.drop(['TrackedStatus', 'DateID', 'Position', '2D_X', '2D_Y'], axis=1, inplace=True)\n",
    "\n",
    "# Añadir columna más descriptiva de los gestos\n",
    "gesture_mapping = {\n",
    "    '0': 'EFL',\n",
    "    '1': 'EFR',\n",
    "    '2': 'SFL',\n",
    "    '3': 'SFR',\n",
    "    '4': 'SAL',\n",
    "    '5': 'SAR',\n",
    "    '6': 'SFE',\n",
    "    '7': 'STL',\n",
    "    '8': 'STR'\n",
    "}\n",
    "\n",
    "# Nueva columna basada en el mapeo\n",
    "columna_gestrure_name = df_data['GestureLabel'].map(gesture_mapping)\n",
    "\n",
    "# Insertar la columna al lado de GestureLabel\n",
    "df_data.insert(2, 'GestureName', columna_gestrure_name)\n",
    "\n",
    "df_data"
   ]
  },
  {
   "cell_type": "code",
   "execution_count": null,
   "metadata": {},
   "outputs": [],
   "source": [
    "# guardar los datos en formato csv\n",
    "df_data.to_csv('../Resultados/raw_pacientes.csv', index=False)"
   ]
  },
  {
   "cell_type": "markdown",
   "metadata": {},
   "source": [
    "******\n",
    "## 2. Calcular los ángulos"
   ]
  },
  {
   "cell_type": "markdown",
   "metadata": {},
   "source": [
    "<div style=\"text-align: center;\">\n",
    "<img src=\"../Imagenes/gestures.png\" width=\"500\"/>\n",
    "</div>"
   ]
  },
  {
   "cell_type": "code",
   "execution_count": null,
   "metadata": {},
   "outputs": [],
   "source": [
    "# Aplica la función para caluclar los ángulos a los datos en crudo\n",
    "df_angles = fn.apply_angles_I(df_data)\n",
    "# Visualizar el dataframe\n",
    "df_angles"
   ]
  },
  {
   "cell_type": "code",
   "execution_count": null,
   "metadata": {},
   "outputs": [],
   "source": [
    "# guardar los datos en formato csv\n",
    "df_angles.to_csv('../Resultados/angles.csv', index=False)"
   ]
  },
  {
   "cell_type": "markdown",
   "metadata": {},
   "source": [
    "******\n",
    "## 3. Cálculos estadísticos sobre los ángulos\n",
    "\n",
    "Realizar cálculos estadísticos sobre los ángulos calculados entre keypoints para cada repetición y gesto. "
   ]
  },
  {
   "cell_type": "code",
   "execution_count": null,
   "metadata": {},
   "outputs": [],
   "source": [
    "# Cálculos estadísticos sobre los ángulos\n",
    "def calculos_estadísticos(df:pd.DataFrame) -> pd.DataFrame:\n",
    "    \"\"\"\n",
    "    Realiza cálculos estadísticos sobre los ángulos en un\n",
    "    DataFrame agrupado por sujeto, gesto y número de repetición.\n",
    "\n",
    "    Parámetros\n",
    "    ----------\n",
    "    df : pd.DataFrame\n",
    "        DataFrame que contiene información sobre los ángulos,\n",
    "        así como otras columnas relacionadas con el sujeto,\n",
    "        gesto, repetición, etc.\n",
    "\n",
    "    Returns\n",
    "    -------\n",
    "    pd.DataFrame\n",
    "        DataFrame que contiene las estadísticas descriptivas\n",
    "        calculadas para cada grupo de ángulos, con una fila por\n",
    "        combinación de sujeto, gesto y repetición.\n",
    "    \"\"\"\n",
    "\n",
    "    # Agrupa el DataFrame \n",
    "    groups = df.groupby([\"SubjectID\", \"GestureLabel\", \"RepetitionNumber\"])\n",
    "\n",
    "    # Lista para almacenar los datos de salida\n",
    "    data = []\n",
    "\n",
    "    # Itera sobre cada grupo\n",
    "    for (subject_id, gesture_label, repetition_number), group in groups:\n",
    "        # Selecciona solo las columnas que contienen los ángulos \n",
    "        angles = group.iloc[:, 6:]\n",
    "\n",
    "        # Calcula la media y la desviación estándar para los ángulos\n",
    "        means = angles.mean()\n",
    "        std_devs = angles.std()\n",
    "\n",
    "        # Almacena las estadísticas en un diccionario \n",
    "        data.append({\n",
    "            'SubjectID': subject_id,\n",
    "            'GestureLabel': gesture_label,\n",
    "            'GestureName': group['GestureName'].iloc[0],\n",
    "            'RepetitionNumber': repetition_number,\n",
    "            'CorrectLabel': group['CorrectLabel'].iloc[0],\n",
    "            'Duration': len(group),  # Duración en número de frames\n",
    "            'standardDeviation': std_devs,\n",
    "            'Maximum': angles.max(),\n",
    "            'Minimum': angles.min(),\n",
    "            'Mean': means,\n",
    "            'Range': angles.max() - angles.min(),\n",
    "            'Variance': angles.var(),\n",
    "            'CoV': std_devs / means,  # Coeficiente de variación\n",
    "            'Skewness': angles.skew(),  # Asimetría\n",
    "            'Kurtosis': angles.kurtosis()  # Curtosis\n",
    "        })\n",
    "\n",
    "    # Convierte la lista de diccionarios en un DataFrame y lo ordena\n",
    "    df_stats = pd.DataFrame(data)\n",
    "    df_stats = df_stats.sort_values(['SubjectID', 'GestureLabel', 'RepetitionNumber'])\n",
    "\n",
    "    return df_stats"
   ]
  },
  {
   "cell_type": "code",
   "execution_count": null,
   "metadata": {},
   "outputs": [],
   "source": [
    "# Cálculos sobre los ángulos\n",
    "df_stats = calculos_estadísticos(df_angles)\n",
    "df_stats.head()"
   ]
  },
  {
   "cell_type": "markdown",
   "metadata": {},
   "source": [
    "Como se ve en la cabecera del DataFrame anterior es poco legible, por lo que se va a formatear para mejorar la legibilidad del DataFrame y evitar la representación diccionarios dentro de las columnas del DataFrame"
   ]
  },
  {
   "cell_type": "code",
   "execution_count": null,
   "metadata": {},
   "outputs": [],
   "source": [
    "columnas = ['standardDeviation', 'Maximum', 'Minimum', 'Mean', 'Range',\n",
    "            'Variance', 'CoV', 'Skewness', 'Kurtosis']\n",
    "# Reformatea cada columna de diccionario y concatena los resultados\n",
    "nuevas_columnas = pd.concat([fn.formatear_columnas(df_stats[col], col) for col in columnas], axis=1)\n",
    "\n",
    "# Concatenar las nuevas columnas con el DataFrame original\n",
    "df = pd.concat([df_stats, nuevas_columnas], axis=1)\n",
    "\n",
    "# Elimina las columnas originales que contenían diccionarios\n",
    "df = df.drop(columnas, axis=1)\n",
    "\n",
    "# Ordena el DataFrame \n",
    "## pasamos a numerico para que ordene bien los numeros\n",
    "df = df.apply(pd.to_numeric, errors='ignore')\n",
    "df = df.sort_values(['SubjectID', 'GestureLabel', 'RepetitionNumber'])\n",
    "\n",
    "# Mostrar el resultado\n",
    "df"
   ]
  },
  {
   "cell_type": "code",
   "execution_count": null,
   "metadata": {},
   "outputs": [],
   "source": [
    "# Guardar el DataFrame en formato csv\n",
    "df.to_csv('../Resultados/medidasPerRepetition.csv', index=False)"
   ]
  }
 ],
 "metadata": {
  "kernelspec": {
   "display_name": "Python 3",
   "language": "python",
   "name": "python3"
  },
  "language_info": {
   "codemirror_mode": {
    "name": "ipython",
    "version": 3
   },
   "file_extension": ".py",
   "mimetype": "text/x-python",
   "name": "python",
   "nbconvert_exporter": "python",
   "pygments_lexer": "ipython3",
   "version": "3.11.9"
  }
 },
 "nbformat": 4,
 "nbformat_minor": 2
}
