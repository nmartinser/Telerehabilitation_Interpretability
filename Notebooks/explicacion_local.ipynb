{
 "cells": [
  {
   "cell_type": "markdown",
   "metadata": {},
   "source": [
    "# Explicación local\n",
    "\n",
    "**Descripción**\\\n",
    "Se va a dar explicación a los movimientos incorrectos de un paciente\n",
    "\n",
    "**Entrada**\n",
    "* ``raw.csv``:  contiene información detallada sobre cada grabación.\n"
   ]
  },
  {
   "cell_type": "markdown",
   "metadata": {},
   "source": [
    "**1. Importar librerías**"
   ]
  },
  {
   "cell_type": "code",
   "execution_count": 1,
   "metadata": {},
   "outputs": [],
   "source": [
    "import pandas as pd\n",
    "import functions as fn\n",
    "import joblib\n",
    "# Suprimir warnings\n",
    "import warnings\n",
    "warnings.simplefilter(action='ignore', category=FutureWarning)"
   ]
  },
  {
   "cell_type": "markdown",
   "metadata": {},
   "source": [
    "**2. Input data**"
   ]
  },
  {
   "cell_type": "code",
   "execution_count": 2,
   "metadata": {},
   "outputs": [],
   "source": [
    "# Dataframe de los datos en bruto\n",
    "names = ['SubjectID','GestureLabel','GestureName','RepetitionNumber','CorrectLabel','JointName','3D_X','3D_Y','3D_Z']\n",
    "df_raw = pd.read_csv('../Resultados/raw_pacientes.csv', dtype=object, names=names, skiprows=1136726, nrows=21225)\n",
    "# coge un solo pacinte realizando un solo gesto"
   ]
  },
  {
   "cell_type": "code",
   "execution_count": 3,
   "metadata": {},
   "outputs": [],
   "source": [
    "gesture = 'EFL' # vendrá dado por la fase1"
   ]
  },
  {
   "cell_type": "markdown",
   "metadata": {},
   "source": [
    "**3. Caracterización de movimientos**"
   ]
  },
  {
   "cell_type": "code",
   "execution_count": 4,
   "metadata": {},
   "outputs": [],
   "source": [
    "# Cálculo de ángulos según gesto\n",
    "df_calculations = fn.apply_angles_II(df_raw, gesture)\n",
    "#  Cálculos estadísticos para agrupar por repeticion \n",
    "df_stats = fn.calculos_estadisticos(df_calculations)\n",
    "\n",
    "columnas = ['standardDeviation', 'Maximum', 'Minimum', 'Mean', 'Range',\n",
    "                'Variance', 'CoV', 'Skewness', 'Kurtosis']\n",
    "nuevas_columnas = pd.concat([fn.formatear_columnas(df_stats[col], col)\n",
    "                                for col in columnas], axis=1)\n",
    "df_stats = pd.concat([df_stats, nuevas_columnas], axis=1)\n",
    "df_stats = df_stats.drop(columnas, axis=1)\n",
    "\n",
    "# celimnar correctlabel\n",
    "df_stats = df_stats.drop(['CorrectLabel'], axis=1)  "
   ]
  },
  {
   "cell_type": "markdown",
   "metadata": {},
   "source": [
    "**4. Fase 2: Clasificación de la ejecución del movimiento**"
   ]
  },
  {
   "cell_type": "code",
   "execution_count": 5,
   "metadata": {},
   "outputs": [],
   "source": [
    "correct_mapping = {\n",
    "            1: 'correcta',\n",
    "            2: 'incorrecta'\n",
    "        }"
   ]
  },
  {
   "cell_type": "code",
   "execution_count": 6,
   "metadata": {},
   "outputs": [
    {
     "name": "stdout",
     "output_type": "stream",
     "text": [
      "Repetición 1: correcta\n",
      "Repetición 2: correcta\n",
      "Repetición 3: correcta\n",
      "Repetición 4: correcta\n",
      "Repetición 5: incorrecta\n",
      "Repetición 6: incorrecta\n",
      "Repetición 7: correcta\n",
      "Repetición 8: correcta\n",
      "Repetición 9: incorrecta\n",
      "Repetición 10: incorrecta\n",
      "Repetición 11: incorrecta\n",
      "Repetición 12: incorrecta\n",
      "Repetición 13: incorrecta\n"
     ]
    }
   ],
   "source": [
    "modelo_gesto_path = f'../Resultados/modelo_{gesture}.sav'\n",
    "best_pipeline, expected_columns = joblib.load(modelo_gesto_path)\n",
    "df_stats = df_stats.reindex(columns=expected_columns)\n",
    "correct_labels = best_pipeline.predict(df_stats)\n",
    "\n",
    "for i,correct_label in enumerate(correct_labels):\n",
    "    correct_name = correct_mapping.get(correct_label, 'Error en la predición')\n",
    "    repetition_number = df_stats['RepetitionNumber'].iloc[i]\n",
    "    if correct_label==1:\n",
    "        print(f'Repetición {repetition_number}: {correct_name}')\n",
    "    elif correct_label==2:\n",
    "        print(f'Repetición {repetition_number}: {correct_name}')\n",
    "    else:\n",
    "        print(\"Error en la predición\")"
   ]
  }
 ],
 "metadata": {
  "kernelspec": {
   "display_name": "Python 3",
   "language": "python",
   "name": "python3"
  },
  "language_info": {
   "codemirror_mode": {
    "name": "ipython",
    "version": 3
   },
   "file_extension": ".py",
   "mimetype": "text/x-python",
   "name": "python",
   "nbconvert_exporter": "python",
   "pygments_lexer": "ipython3",
   "version": "3.11.9"
  }
 },
 "nbformat": 4,
 "nbformat_minor": 2
}
